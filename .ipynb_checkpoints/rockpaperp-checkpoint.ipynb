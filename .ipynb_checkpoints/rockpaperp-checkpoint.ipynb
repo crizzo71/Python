{
 "cells": [
  {
   "cell_type": "code",
   "execution_count": 1,
   "id": "b5076feb-a57b-4e11-ba79-d57abd5b30af",
   "metadata": {},
   "outputs": [],
   "source": [
    "#Rock Paper Scissors"
   ]
  },
  {
   "cell_type": "code",
   "execution_count": null,
   "id": "7dbfdf52-8327-4bb4-b242-5d32e919ed97",
   "metadata": {},
   "outputs": [
    {
     "name": "stdin",
     "output_type": "stream",
     "text": [
      "Choose one: rock, paper, scissors?  te\n"
     ]
    },
    {
     "name": "stdout",
     "output_type": "stream",
     "text": [
      "Not a valid choice\n"
     ]
    },
    {
     "name": "stdin",
     "output_type": "stream",
     "text": [
      "Choose one: rock, paper, scissors?  rock\n"
     ]
    },
    {
     "name": "stdout",
     "output_type": "stream",
     "text": [
      "rock (you) vs. rock\n",
      "It's a tie!\n"
     ]
    },
    {
     "name": "stdin",
     "output_type": "stream",
     "text": [
      "Choose one: rock, paper, scissors?  paper\n"
     ]
    },
    {
     "name": "stdout",
     "output_type": "stream",
     "text": [
      "paper (you) vs. rock\n",
      "You win!\n",
      "user (1) vs. computer (0)\n"
     ]
    },
    {
     "name": "stdin",
     "output_type": "stream",
     "text": [
      "Choose one: rock, paper, scissors?  paper\n"
     ]
    },
    {
     "name": "stdout",
     "output_type": "stream",
     "text": [
      "paper (you) vs. paper\n",
      "It's a tie!\n"
     ]
    }
   ],
   "source": [
    "import round \n",
    "\n",
    "user_score = 0\n",
    "computer_score = 0\n",
    "\n",
    "# The first player to win two rounds wins the game.\n",
    "while user_score < 2 and computer_score < 2:\n",
    "    user_choice = round.make_user_choice()\n",
    "    computer_choice = round.make_computer_choice()\n",
    "    print(user_choice + \" (you) vs. \" + computer_choice)\n",
    "\n",
    "    # Restart the round if both players choose the same thing.\n",
    "    if user_choice == computer_choice:\n",
    "        print(\"It's a tie!\")\n",
    "        continue\n",
    "\n",
    "    if round.wins_matchup(user_choice, computer_choice):\n",
    "        print(\"You win!\")\n",
    "        user_score = user_score + 1\n",
    "    else:\n",
    "        print(\"Computer wins!\")\n",
    "        computer_score = computer_score + 1\n",
    "\n",
    "    print(round.format_score(user_score, computer_score))\n"
   ]
  },
  {
   "cell_type": "code",
   "execution_count": null,
   "id": "fab2039b-1202-42e5-b023-853a66c20e4d",
   "metadata": {},
   "outputs": [],
   "source": []
  }
 ],
 "metadata": {
  "kernelspec": {
   "display_name": "Python [conda env:base] *",
   "language": "python",
   "name": "conda-base-py"
  },
  "language_info": {
   "codemirror_mode": {
    "name": "ipython",
    "version": 3
   },
   "file_extension": ".py",
   "mimetype": "text/x-python",
   "name": "python",
   "nbconvert_exporter": "python",
   "pygments_lexer": "ipython3",
   "version": "3.11.11"
  }
 },
 "nbformat": 4,
 "nbformat_minor": 5
}
