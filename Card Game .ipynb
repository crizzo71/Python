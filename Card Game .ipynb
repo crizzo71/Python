{
 "cells": [
  {
   "cell_type": "code",
   "execution_count": 1,
   "id": "5165bf6c",
   "metadata": {},
   "outputs": [
    {
     "name": "stdout",
     "output_type": "stream",
     "text": [
      "5 of Hearts\n",
      "10 of Spades\n",
      "7 of Spades\n",
      "5 of Clubs\n",
      "4 of Hearts\n",
      "\n",
      "2 of Hearts\n",
      "5 of Spades\n",
      "King of Clubs\n",
      "Queen of Clubs\n",
      "9 of Spades\n",
      "8 of Spades\n",
      "King of Clubs\n",
      "\n"
     ]
    }
   ],
   "source": [
    "import random\n",
    "\n",
    "def get_suit():\n",
    "    \"\"\"Returns a random playing card suit.\"\"\"\n",
    "    choice = random.randint(1, 4)\n",
    "\n",
    "    if choice == 1:\n",
    "        return \"Hearts\"\n",
    "    elif choice == 2:\n",
    "        return \"Diamonds\"\n",
    "    elif choice == 3:\n",
    "        return \"Spades\"\n",
    "    else:\n",
    "        return \"Clubs\"\n",
    "\n",
    "def get_rank(include_face_cards):\n",
    "    \"\"\"Returns a random playing card rank.\"\"\"\n",
    "    if include_face_cards:\n",
    "        num = random.randint(1, 13)\n",
    "    else:\n",
    "        num = random.randint(2, 10)\n",
    "\n",
    "    if num == 1:\n",
    "        return \"Ace\"\n",
    "    elif num == 11:\n",
    "        return \"Jack\"\n",
    "    elif num == 12:\n",
    "        return \"Queen\"\n",
    "    elif num == 13:\n",
    "        return \"King\"\n",
    "\n",
    "    return str(num)\n",
    "\n",
    "def draw_card(include_face_cards):\n",
    "    \"\"\"Returns a random playing card in string format.\"\"\"\n",
    "    return get_rank(include_face_cards) + \" of \" + get_suit()\n",
    "\n",
    "def draw_hand(num_cards, include_face_cards):\n",
    "    \"\"\"Returns a random hand of cards of the given size.\"\"\"\n",
    "    hand = \"\"\n",
    "    for card in range(num_cards):\n",
    "        hand += draw_card(include_face_cards) + \"\\n\"\n",
    "\n",
    "    return hand\n",
    "\n",
    "\n",
    "print(draw_hand(5, False))\n",
    "print(draw_hand(7, True))\n"
   ]
  },
  {
   "cell_type": "code",
   "execution_count": 6,
   "id": "ce10b607",
   "metadata": {},
   "outputs": [
    {
     "name": "stdout",
     "output_type": "stream",
     "text": [
      "Scores: p1=10, p2=15\n"
     ]
    }
   ],
   "source": [
    "def get_banana_score(num_bananas):\n",
    "    \"\"\"Returns a player's score based on the number of banana cards.\n",
    "    Bananas are worth more in bunches.\n",
    "    \"\"\"\n",
    "    if num_bananas == 1:\n",
    "        return 1\n",
    "    elif num_bananas == 2:\n",
    "        return 4\n",
    "    elif num_bananas >= 3:\n",
    "        return 10\n",
    "    else:\n",
    "        return 0\n",
    "\n",
    "def get_apple_score(num_apples, has_poison_apple):\n",
    "    \"\"\"Returns a player's score based on the number of apple cards.\n",
    "    The poison apple card turns the apple score negative.\n",
    "    \"\"\"\n",
    "    if has_poison_apple:\n",
    "        return num_apples * -2\n",
    "    return num_apples * 2\n",
    "\n",
    "def get_cherry_score(num_cherries):\n",
    "    score = num_cherries //2\n",
    "    return score * 5\n",
    "\n",
    "def get_score(bananas, apples, cherries, has_poison_apple):\n",
    "    \"\"\"Returns a player's total score based on their cards of each type.\"\"\"\n",
    "    banana_score = get_banana_score(bananas)\n",
    "    apple_score = get_apple_score(apples, has_poison_apple)\n",
    "    cherries_score = get_cherry_score(cherries)\n",
    "\n",
    "    return banana_score + apple_score + cherries_score\n",
    "\n",
    "        \n",
    "# Calculate the final score for each player.\n",
    "player1_score = get_score(0, 0, 5, True)\n",
    "player2_score = get_score(0, 0, 6, False)\n",
    "print(\"Scores: p1=\" + str(player1_score) + \", p2=\" + str(player2_score))"
   ]
  },
  {
   "cell_type": "code",
   "execution_count": null,
   "id": "5da828e4-bed5-4257-98e0-722bbaf4fda1",
   "metadata": {},
   "outputs": [],
   "source": []
  },
  {
   "cell_type": "code",
   "execution_count": null,
   "id": "fd97a3f5-0a70-44a4-8b7e-58a76979453f",
   "metadata": {},
   "outputs": [],
   "source": []
  }
 ],
 "metadata": {
  "kernelspec": {
   "display_name": "Python [conda env:base] *",
   "language": "python",
   "name": "conda-base-py"
  },
  "language_info": {
   "codemirror_mode": {
    "name": "ipython",
    "version": 3
   },
   "file_extension": ".py",
   "mimetype": "text/x-python",
   "name": "python",
   "nbconvert_exporter": "python",
   "pygments_lexer": "ipython3",
   "version": "3.11.11"
  }
 },
 "nbformat": 4,
 "nbformat_minor": 5
}
